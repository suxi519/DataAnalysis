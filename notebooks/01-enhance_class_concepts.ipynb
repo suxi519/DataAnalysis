{
 "cells": [
  {
   "attachments": {},
   "cell_type": "markdown",
   "metadata": {},
   "source": [
    "- 종이 클래스 정의하기\n",
    "    - 클래스명 : `Paper`"
   ]
  },
  {
   "cell_type": "code",
   "execution_count": 6,
   "metadata": {},
   "outputs": [],
   "source": [
    "class Paper:\n",
    "    ..."
   ]
  },
  {
   "attachments": {},
   "cell_type": "markdown",
   "metadata": {},
   "source": [
    "- 가위 클래스 정의하기\n",
    "    - 클래스명 : `Sissors`\n",
    "    - 메소드명 : `execute`\n",
    "        - 파라미터 : `obj`\n",
    "        - 입력받은 `obj`를 자르는 역할을 수행 (`print`로 구현, e.g. `print(f'cut the {obj}')`)"
   ]
  },
  {
   "cell_type": "code",
   "execution_count": 5,
   "metadata": {},
   "outputs": [],
   "source": [
    "class Sissors:\n",
    "    def execute(self, obj):\n",
    "        print(f'cut the {obj}')"
   ]
  },
  {
   "attachments": {},
   "cell_type": "markdown",
   "metadata": {},
   "source": [
    "- 풀 클래스 정의하기\n",
    "    - 클래스명 : `Glue`\n",
    "    - 메소드명 : `execute`\n",
    "        - 파라미터 : `obj`\n",
    "        - 입력받은 `obj`를 붙이는 역할을 수행 (`print`로 구현, e.g. `print(f'attach the {obj}')`)"
   ]
  },
  {
   "cell_type": "code",
   "execution_count": 7,
   "metadata": {},
   "outputs": [],
   "source": [
    "class Glue:\n",
    "    def execute(self, obj):\n",
    "        print(f'attach the {obj}')"
   ]
  },
  {
   "attachments": {},
   "cell_type": "markdown",
   "metadata": {},
   "source": [
    "- 나를 지칭하는 클래스 정의하기\n",
    "    - 클래스명 : `Person`\n",
    "    - 생성자 인자 : `name`, `age`\n",
    "    - 메소드명 : `use`\n",
    "        - 파라미터 : `obj`\n",
    "        - 입력받은 `obj`가 가진 역할을 수행 (`obj`의 `execute` 메소드 실행)"
   ]
  },
  {
   "cell_type": "code",
   "execution_count": 8,
   "metadata": {},
   "outputs": [],
   "source": [
    "class Person:\n",
    "    def __init__(self, name:str, age:int):\n",
    "        self.name = name\n",
    "        self.age = age\n",
    "\n",
    "    def use(self, obj1, obj2):\n",
    "        obj1.execute(obj2)"
   ]
  },
  {
   "attachments": {},
   "cell_type": "markdown",
   "metadata": {},
   "source": [
    "- 내가 종이를 풀과 가위를 이용해 붙이고, 자르는 로직 작성"
   ]
  },
  {
   "cell_type": "code",
   "execution_count": 16,
   "metadata": {},
   "outputs": [
    {
     "name": "stdout",
     "output_type": "stream",
     "text": [
      "cut the <__main__.Paper object at 0x11055c190>\n",
      "attach the <__main__.Paper object at 0x11055c190>\n"
     ]
    }
   ],
   "source": [
    "me = Person(name=\"suxi\", age=99)\n",
    "paper = Paper()\n",
    "sissors, glue = Sissors(), Glue()\n",
    "me.use(obj1=sissors, obj2=paper)\n",
    "me.use(obj1=glue, obj2=paper)"
   ]
  }
 ],
 "metadata": {
  "kernelspec": {
   "display_name": "eda",
   "language": "python",
   "name": "python3"
  },
  "language_info": {
   "codemirror_mode": {
    "name": "ipython",
    "version": 3
   },
   "file_extension": ".py",
   "mimetype": "text/x-python",
   "name": "python",
   "nbconvert_exporter": "python",
   "pygments_lexer": "ipython3",
   "version": "3.10.0"
  },
  "orig_nbformat": 4
 },
 "nbformat": 4,
 "nbformat_minor": 2
}
