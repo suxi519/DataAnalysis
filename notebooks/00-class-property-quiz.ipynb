{
 "cells": [
  {
   "attachments": {},
   "cell_type": "markdown",
   "metadata": {},
   "source": [
    "\n",
    "# 카멜 케이스, 스네이크 케이스\n",
    "- PEP8 : https://legacy.python.org/dev/peps/pep-0008/\n",
    "- 각 프로그래밍 언어마다 명명법 (Naming)의 스타일이 다르다.\n",
    "- 파이썬의 경우 공식 스타일 PEP8 규격에 따른다.\n",
    "    - 클래스 : 카멜 케이스 (e.g. `class Animal`)\n",
    "    - 변수명, 함수명 : 스네이크 케이스 (e.g. `a = 1`, `def move()`)"
   ]
  },
  {
   "cell_type": "markdown",
   "metadata": {},
   "source": [
    "# 클래스 (Class)\n",
    "- 클래스는 객체의 청사진 (Blue print)의 역할을 수행한다.\n",
    "- 쉽게 말해, 객체의 설계도 및 명세 (Specification)의 역할을 수행한다.\n",
    "- 설계도를 기반으로 객체를 일관성 있게 반복적으로 생성할 수 있다.\n",
    "- 클래스의 속성 (Attribute)\n",
    "    - 필드 (Field) : *객체의 정보* 혹은 값들을 저장하는 용도\n",
    "    - 메소드 (Method) : 클래스 내부에 정의된 함수를 메소드라고 하며, *객체의 행위*에 해당한다."
   ]
  },
  {
   "cell_type": "code",
   "execution_count": 29,
   "metadata": {},
   "outputs": [],
   "source": [
    "class Fruit:\n",
    "    def __init__(self, name: str, color: str): # 인자 뒤에 콜론(:)을 적고 타입을 적어 해당 인자가 어떤 타입인지 명시할 수 있다. (타입 힌트)\n",
    "        self.name = name\n",
    "        self.color = color"
   ]
  },
  {
   "attachments": {},
   "cell_type": "markdown",
   "metadata": {},
   "source": [
    "# 객체 생성"
   ]
  },
  {
   "cell_type": "code",
   "execution_count": 30,
   "metadata": {},
   "outputs": [],
   "source": [
    "# 객체를 생성할 때에는 클래스명(__init__에 들어갈 인자들..)\n",
    "# 클래스명을 적고 괄호 안에 __init__() 메소드에 들어갈 인자들을 전달한다.\n",
    "# 전달된 인자 (name, color)는 각 객체가 독립적으로 소유한 변수 (self.name, self.color)에 저장된다.\n",
    "grape = Fruit(name='grape', color='purple')"
   ]
  },
  {
   "cell_type": "code",
   "execution_count": 31,
   "metadata": {},
   "outputs": [
    {
     "name": "stdout",
     "output_type": "stream",
     "text": [
      "grape\n"
     ]
    }
   ],
   "source": [
    "print(grape.name)"
   ]
  },
  {
   "cell_type": "code",
   "execution_count": 32,
   "metadata": {},
   "outputs": [
    {
     "name": "stdout",
     "output_type": "stream",
     "text": [
      "grape2\n"
     ]
    }
   ],
   "source": [
    "grape.name = 'grape2'\n",
    "print(grape.name)"
   ]
  },
  {
   "cell_type": "code",
   "execution_count": 4,
   "metadata": {},
   "outputs": [
    {
     "name": "stdout",
     "output_type": "stream",
     "text": [
      "purple\n"
     ]
    }
   ],
   "source": [
    "print(grape.color)"
   ]
  },
  {
   "cell_type": "markdown",
   "metadata": {},
   "source": [
    "# 여러 개 객체 생성"
   ]
  },
  {
   "cell_type": "code",
   "execution_count": 5,
   "metadata": {},
   "outputs": [
    {
     "name": "stdout",
     "output_type": "stream",
     "text": [
      "<__main__.Fruit object at 0x103ec0ca0>\n",
      "<__main__.Fruit object at 0x103ec06a0>\n"
     ]
    }
   ],
   "source": [
    "strawberry = Fruit(name='strawberry', color='red')\n",
    "banana = Fruit(name='banana', color='yellow')\n",
    "\n",
    "print(strawberry) # 0x103ec0ca0 주소 번지에 Fruit 타입의 객체가 저장됨\n",
    "print(banana) # 0x103ec06a0 주소 번지에 Fruit 타입의 객체가 저장됨"
   ]
  },
  {
   "cell_type": "code",
   "execution_count": 6,
   "metadata": {},
   "outputs": [
    {
     "name": "stdout",
     "output_type": "stream",
     "text": [
      "[<__main__.Bread object at 0x103fa1130>, <__main__.Bread object at 0x103fc0970>, <__main__.Bread object at 0x103fc0dc0>, <__main__.Bread object at 0x103fc0ca0>, <__main__.Bread object at 0x103fc0af0>, <__main__.Bread object at 0x103ec79a0>, <__main__.Bread object at 0x103ec73a0>, <__main__.Bread object at 0x103ec7460>, <__main__.Bread object at 0x103ec75e0>, <__main__.Bread object at 0x103ec70a0>]\n"
     ]
    }
   ],
   "source": [
    "class Bread:\n",
    "    ...\n",
    "\n",
    "breads = []\n",
    "num_objects = 10\n",
    "for _ in range(num_objects):\n",
    "    bread = Bread()\n",
    "    breads.append(bread)\n",
    "\n",
    "print(breads)"
   ]
  },
  {
   "cell_type": "markdown",
   "metadata": {},
   "source": [
    "# Getter, Setter\n",
    "- 객체의 필드를 수정하기 위해서는 객체의 필드를 직접 접근하여 읽기 혹은 쓰기를 통해 객체 내의 정보들을 수정할 수 있다."
   ]
  },
  {
   "cell_type": "code",
   "execution_count": 1,
   "metadata": {},
   "outputs": [],
   "source": [
    "class Factory:\n",
    "    def __init__(self, kind: str) -> None:\n",
    "        self.kind = kind"
   ]
  },
  {
   "cell_type": "code",
   "execution_count": 2,
   "metadata": {},
   "outputs": [],
   "source": [
    "f = Factory(kind=\"test\") # 객체 생성"
   ]
  },
  {
   "cell_type": "code",
   "execution_count": 3,
   "metadata": {},
   "outputs": [
    {
     "name": "stdout",
     "output_type": "stream",
     "text": [
      "test\n"
     ]
    }
   ],
   "source": [
    "print(f.kind) # 객체의 필드 읽기"
   ]
  },
  {
   "cell_type": "code",
   "execution_count": 4,
   "metadata": {},
   "outputs": [
    {
     "name": "stdout",
     "output_type": "stream",
     "text": [
      "test2\n"
     ]
    }
   ],
   "source": [
    "f.kind = \"test2\" # 객체의 필드 쓰기 (수정)\n",
    "print(f.kind)"
   ]
  },
  {
   "cell_type": "markdown",
   "metadata": {},
   "source": [
    "- 하지만, 이렇게 누구나 Public하게 객체에 접근할 수 있다면 위험하다.\n",
    "- 읽기, 쓰기를 제어할 수 있는 중간다리가 필요하다.\n",
    "- 그 역할을 하는 것이 Getter, Setter"
   ]
  },
  {
   "cell_type": "code",
   "execution_count": 5,
   "metadata": {},
   "outputs": [],
   "source": [
    "class Factory:\n",
    "    def __init__(self, kind: str) -> None:\n",
    "        self.__kind = kind  # 객체의 필드명 앞에 언더바(_) 두 번을 쓰면 외부에서 직접 접근할 수 없다. (private)\n",
    "    \n",
    "    def get_kind(self) -> str:  # Getter method\n",
    "        return self.__kind\n",
    "    \n",
    "    def set_kind(self, kind: str) -> None:  # Setter method\n",
    "        self.__kind = kind"
   ]
  },
  {
   "cell_type": "code",
   "execution_count": 6,
   "metadata": {},
   "outputs": [],
   "source": [
    "f = Factory(\"test\")"
   ]
  },
  {
   "cell_type": "code",
   "execution_count": 7,
   "metadata": {},
   "outputs": [
    {
     "ename": "AttributeError",
     "evalue": "'Factory' object has no attribute '__kind'",
     "output_type": "error",
     "traceback": [
      "\u001b[0;31m---------------------------------------------------------------------------\u001b[0m",
      "\u001b[0;31mAttributeError\u001b[0m                            Traceback (most recent call last)",
      "Cell \u001b[0;32mIn[7], line 1\u001b[0m\n\u001b[0;32m----> 1\u001b[0m f\u001b[39m.\u001b[39;49m__kind\n",
      "\u001b[0;31mAttributeError\u001b[0m: 'Factory' object has no attribute '__kind'"
     ]
    }
   ],
   "source": [
    "f.__kind  # 언더바(_) 두 번의 언더바가 명시된 필드에는 직접 접근 불가"
   ]
  },
  {
   "cell_type": "code",
   "execution_count": 8,
   "metadata": {},
   "outputs": [
    {
     "data": {
      "text/plain": [
       "'test'"
      ]
     },
     "execution_count": 8,
     "metadata": {},
     "output_type": "execute_result"
    }
   ],
   "source": [
    "f.get_kind()  # 하지만, getter를 통해 접근 가능"
   ]
  },
  {
   "cell_type": "code",
   "execution_count": 9,
   "metadata": {},
   "outputs": [
    {
     "data": {
      "text/plain": [
       "'test2'"
      ]
     },
     "execution_count": 9,
     "metadata": {},
     "output_type": "execute_result"
    }
   ],
   "source": [
    "f.set_kind(kind=\"test2\") # f.kind = \"test2\"\n",
    "f.get_kind()"
   ]
  },
  {
   "cell_type": "markdown",
   "metadata": {},
   "source": [
    "# 프로퍼티 (property)\n",
    "- 물론 Getter와 Setter를 통해 객체의 필드에 접근할 수 있지만, 필드가 늘어날수록 `get_`, `set_` 메소드가 기하급수적으로 늘어나기 때문에 가독성 측면에서 좋지 못하다.\n",
    "- 이를 해결하기 위해 Getter, Setter보다 직관적인 `property`를 활용하면 도움이 된다."
   ]
  },
  {
   "cell_type": "code",
   "execution_count": 16,
   "metadata": {},
   "outputs": [],
   "source": [
    "class Factory:\n",
    "    def __init__(self, kind: str) -> None:\n",
    "        self.__kind = kind\n",
    "    \n",
    "    @property\n",
    "    def kind(self) -> str:\n",
    "        return self.__kind\n",
    "    \n",
    "    @kind.setter # kind property의 setter를 의미\n",
    "    def kind(self, kind: str) -> None:\n",
    "        self.__kind = kind"
   ]
  },
  {
   "cell_type": "code",
   "execution_count": 11,
   "metadata": {},
   "outputs": [],
   "source": [
    "f = Factory(kind=\"test\")"
   ]
  },
  {
   "cell_type": "code",
   "execution_count": 12,
   "metadata": {},
   "outputs": [
    {
     "data": {
      "text/plain": [
       "'test'"
      ]
     },
     "execution_count": 12,
     "metadata": {},
     "output_type": "execute_result"
    }
   ],
   "source": [
    "f.kind"
   ]
  },
  {
   "cell_type": "code",
   "execution_count": 13,
   "metadata": {},
   "outputs": [
    {
     "data": {
      "text/plain": [
       "'test2'"
      ]
     },
     "execution_count": 13,
     "metadata": {},
     "output_type": "execute_result"
    }
   ],
   "source": [
    "f.kind = \"test2\"\n",
    "f.kind"
   ]
  },
  {
   "cell_type": "markdown",
   "metadata": {},
   "source": [
    "- 프로퍼티를 사용하면 Getter, Setter 사용 이전에 필드에 직접 접근하는 것처럼 사용할 수 있다.\n",
    "- 그럼 굳이 프로퍼티를 왜 사용해야 하나 싶은데, 읽기 쓰기 접근을 제어할 수 있다는 점에서 의미가 있다."
   ]
  },
  {
   "cell_type": "code",
   "execution_count": 21,
   "metadata": {},
   "outputs": [],
   "source": [
    "class Factory:\n",
    "    def __init__(self, kind: str) -> None:\n",
    "        self.__kind = kind\n",
    "    \n",
    "    @property\n",
    "    def kind(self) -> str:\n",
    "        return self.__kind\n",
    "    \n",
    "    # property setter를 정의하지 않음"
   ]
  },
  {
   "cell_type": "code",
   "execution_count": 22,
   "metadata": {},
   "outputs": [],
   "source": [
    "f = Factory(kind=\"test\")"
   ]
  },
  {
   "cell_type": "code",
   "execution_count": 23,
   "metadata": {},
   "outputs": [
    {
     "data": {
      "text/plain": [
       "'test'"
      ]
     },
     "execution_count": 23,
     "metadata": {},
     "output_type": "execute_result"
    }
   ],
   "source": [
    "f.kind # kind property를 정의했기 때문에 get은 가능하지만,"
   ]
  },
  {
   "cell_type": "code",
   "execution_count": 24,
   "metadata": {},
   "outputs": [
    {
     "ename": "AttributeError",
     "evalue": "can't set attribute",
     "output_type": "error",
     "traceback": [
      "\u001b[0;31m---------------------------------------------------------------------------\u001b[0m",
      "\u001b[0;31mAttributeError\u001b[0m                            Traceback (most recent call last)",
      "Cell \u001b[0;32mIn[24], line 1\u001b[0m\n\u001b[0;32m----> 1\u001b[0m f\u001b[39m.\u001b[39;49mkind \u001b[39m=\u001b[39m \u001b[39m\"\u001b[39m\u001b[39mtest2\u001b[39m\u001b[39m\"\u001b[39m\n\u001b[1;32m      2\u001b[0m f\u001b[39m.\u001b[39mkind\n",
      "\u001b[0;31mAttributeError\u001b[0m: can't set attribute"
     ]
    }
   ],
   "source": [
    "f.kind = \"test2\"  # setter property는 정의하지 않았기 때문에 에러가 발생한다.\n",
    "f.kind"
   ]
  },
  {
   "cell_type": "markdown",
   "metadata": {},
   "source": [
    "# 문제 풀어보기"
   ]
  },
  {
   "cell_type": "markdown",
   "metadata": {},
   "source": [
    "- Q1) 쥐 객체 생성하기\n",
    "    - 구현 조건\n",
    "        - 클래스 이름\n",
    "            - 쥐 : `Mouse`"
   ]
  },
  {
   "cell_type": "code",
   "execution_count": 1,
   "metadata": {},
   "outputs": [
    {
     "data": {
      "text/plain": [
       "<__main__.Mouse at 0x10752b6d0>"
      ]
     },
     "execution_count": 1,
     "metadata": {},
     "output_type": "execute_result"
    }
   ],
   "source": [
    "class Mouse:\n",
    "    def __init__(self) -> None:\n",
    "        pass"
   ]
  },
  {
   "cell_type": "markdown",
   "metadata": {},
   "source": [
    "- Q2) 치즈 객체 10번 생성하기\n",
    "    - 구현 조건\n",
    "        - 클래스 이름\n",
    "            - 치즈 : `Cheese`\n",
    "        - `cheeses` 변수명을 가진 리스트 생성\n",
    "        - `cheeses` 리스트에 반복문을 통하여 10개의 치즈 객체 저장"
   ]
  },
  {
   "cell_type": "code",
   "execution_count": 5,
   "metadata": {},
   "outputs": [
    {
     "name": "stdout",
     "output_type": "stream",
     "text": [
      "[<__main__.Cheese object at 0x106659900>, <__main__.Cheese object at 0x1062bbfa0>, <__main__.Cheese object at 0x1062b8a60>, <__main__.Cheese object at 0x1062bb220>, <__main__.Cheese object at 0x1062bbc10>, <__main__.Cheese object at 0x1062baf80>, <__main__.Cheese object at 0x1062b8b50>, <__main__.Cheese object at 0x1062bb880>, <__main__.Cheese object at 0x1062b8790>, <__main__.Cheese object at 0x1062b8100>]\n"
     ]
    }
   ],
   "source": [
    "class Cheese:\n",
    "    pass\n",
    "\n",
    "cheeses = []\n",
    "num_objects = 10\n",
    "for _ in range(num_objects):\n",
    "    cheese = Cheese()\n",
    "    cheeses.append(cheese)\n",
    "\n",
    "print(cheeses)\n"
   ]
  },
  {
   "cell_type": "code",
   "execution_count": 2,
   "metadata": {},
   "outputs": [
    {
     "ename": "SyntaxError",
     "evalue": "unmatched ')' (445079687.py, line 1)",
     "output_type": "error",
     "traceback": [
      "\u001b[0;36m  Cell \u001b[0;32mIn[2], line 1\u001b[0;36m\u001b[0m\n\u001b[0;31m    - Q3) 치즈 10개를 가지고 있는 쥐를 객체로 생성하기\u001b[0m\n\u001b[0m        ^\u001b[0m\n\u001b[0;31mSyntaxError\u001b[0m\u001b[0;31m:\u001b[0m unmatched ')'\n"
     ]
    }
   ],
   "source": [
    "- Q3) 치즈 10개를 가지고 있는 쥐를 객체로 생성하기\n",
    "    - 구현 조건\n",
    "        - 클래스 이름\n",
    "            - 쥐 : `Mouse`\n",
    "            - 치즈 : `Cheese`\n",
    "        - 쥐는 `cheeses`라는 `List[Cheese]` 타입의 필드를 소유\n",
    "        - `cheeses` 필드에는 10개의 치즈 객체가 포함되어야 함\n",
    "        - 반복문을 사용하여 치즈 생성\n",
    "    - 힌트\n",
    "        - 치즈가 생성되는 로직은 쥐의 생성자에서 발생"
   ]
  },
  {
   "attachments": {},
   "cell_type": "markdown",
   "metadata": {},
   "source": [
    "- Q3) 치즈 10개를 가지고 있는 쥐를 객체로 생성하기"
   ]
  },
  {
   "cell_type": "code",
   "execution_count": 13,
   "metadata": {},
   "outputs": [
    {
     "name": "stdout",
     "output_type": "stream",
     "text": [
      "<__main__.Mouse object at 0x1065a88e0>\n",
      "[<__main__.Cheese object at 0x1065a8730>, <__main__.Cheese object at 0x1065a8c40>, <__main__.Cheese object at 0x1065a90f0>, <__main__.Cheese object at 0x1065ab8b0>, <__main__.Cheese object at 0x1065a8a90>, <__main__.Cheese object at 0x1065a83d0>, <__main__.Cheese object at 0x1065a97b0>, <__main__.Cheese object at 0x1065ab520>, <__main__.Cheese object at 0x1065ab3a0>, <__main__.Cheese object at 0x1065aa920>]\n"
     ]
    }
   ],
   "source": [
    "class Cheese:\n",
    "    pass\n",
    "\n",
    "class Mouse:\n",
    "    def __init__(self):\n",
    "        self.cheeses = []\n",
    "        for _ in range(10):\n",
    "            cheese = Cheese()\n",
    "            self.cheeses.append(cheese)\n",
    "\n",
    "mouse1 = Mouse()\n",
    "print(mouse1)\n",
    "print(mouse1.cheeses)"
   ]
  },
  {
   "cell_type": "code",
   "execution_count": 14,
   "metadata": {},
   "outputs": [
    {
     "name": "stdout",
     "output_type": "stream",
     "text": [
      "<__main__.Zoo object at 0x106403a30>\n",
      "[<__main__.Animal object at 0x106403fa0>, <__main__.Animal object at 0x106401ae0>, <__main__.Animal object at 0x106403b80>, <__main__.Animal object at 0x106403a60>, <__main__.Animal object at 0x106402830>, <__main__.Animal object at 0x1064024a0>, <__main__.Animal object at 0x106403bb0>, <__main__.Animal object at 0x106403280>, <__main__.Animal object at 0x106403eb0>, <__main__.Animal object at 0x106403ac0>, <__main__.Animal object at 0x106402ef0>, <__main__.Animal object at 0x106403a00>, <__main__.Animal object at 0x106403f40>, <__main__.Animal object at 0x106403b50>, <__main__.Animal object at 0x106402e30>, <__main__.Animal object at 0x106403af0>, <__main__.Animal object at 0x106403ca0>, <__main__.Animal object at 0x106403f70>, <__main__.Animal object at 0x106402da0>, <__main__.Animal object at 0x106402d70>, <__main__.Animal object at 0x106407940>, <__main__.Animal object at 0x106405270>, <__main__.Animal object at 0x106405030>, <__main__.Animal object at 0x106404df0>, <__main__.Animal object at 0x106407f10>, <__main__.Animal object at 0x106404070>, <__main__.Animal object at 0x106407070>, <__main__.Animal object at 0x106406ce0>, <__main__.Animal object at 0x1064040a0>, <__main__.Animal object at 0x106406290>, <__main__.Animal object at 0x106407dc0>, <__main__.Animal object at 0x106407be0>, <__main__.Animal object at 0x1063fc4c0>, <__main__.Animal object at 0x1063ff580>, <__main__.Animal object at 0x1063feb30>, <__main__.Animal object at 0x1063fc3d0>, <__main__.Animal object at 0x1063fc8b0>, <__main__.Animal object at 0x1063fca90>, <__main__.Animal object at 0x1063fe560>, <__main__.Animal object at 0x1063fc430>, <__main__.Animal object at 0x1063feda0>, <__main__.Animal object at 0x1063fefe0>, <__main__.Animal object at 0x1063fc730>, <__main__.Animal object at 0x1063fed10>, <__main__.Animal object at 0x1063fe6e0>, <__main__.Animal object at 0x1063ff010>, <__main__.Animal object at 0x1063fe470>, <__main__.Animal object at 0x1063fc8e0>, <__main__.Animal object at 0x1063fe890>, <__main__.Animal object at 0x1063fc5e0>, <__main__.Animal object at 0x1063ff070>, <__main__.Animal object at 0x1063fea10>, <__main__.Animal object at 0x1063fc760>, <__main__.Animal object at 0x1063fef50>, <__main__.Animal object at 0x1063feb90>, <__main__.Animal object at 0x1063ff040>, <__main__.Animal object at 0x1063fd390>, <__main__.Animal object at 0x1063fe5f0>, <__main__.Animal object at 0x1063fe830>, <__main__.Animal object at 0x1063feb60>, <__main__.Animal object at 0x1063fe860>, <__main__.Animal object at 0x1063fc550>, <__main__.Animal object at 0x1063fe740>, <__main__.Animal object at 0x1063fc280>, <__main__.Animal object at 0x1063fc4f0>, <__main__.Animal object at 0x1063fefb0>, <__main__.Animal object at 0x1063fd270>, <__main__.Animal object at 0x1063fc880>, <__main__.Animal object at 0x1063fea40>, <__main__.Animal object at 0x1062ba950>, <__main__.Animal object at 0x1062bac80>, <__main__.Animal object at 0x1062b8910>, <__main__.Animal object at 0x1062ba740>, <__main__.Animal object at 0x1062bb9d0>, <__main__.Animal object at 0x1065205e0>, <__main__.Animal object at 0x106520ca0>, <__main__.Animal object at 0x1065ab0a0>, <__main__.Animal object at 0x1065a8580>, <__main__.Animal object at 0x1065a9600>, <__main__.Animal object at 0x1065aadd0>, <__main__.Animal object at 0x1065abfd0>, <__main__.Animal object at 0x1065aaa70>, <__main__.Animal object at 0x1065aa1d0>, <__main__.Animal object at 0x1065abb80>, <__main__.Animal object at 0x1064e02b0>, <__main__.Animal object at 0x1064e0190>, <__main__.Animal object at 0x1064e22c0>, <__main__.Animal object at 0x1064e30a0>, <__main__.Animal object at 0x1064e2ec0>, <__main__.Animal object at 0x106533310>, <__main__.Animal object at 0x106531c60>, <__main__.Animal object at 0x1065316f0>, <__main__.Animal object at 0x106530820>, <__main__.Animal object at 0x1065bffd0>, <__main__.Animal object at 0x1065be170>, <__main__.Animal object at 0x1065be470>, <__main__.Animal object at 0x1065bc2e0>, <__main__.Animal object at 0x1065bc5b0>, <__main__.Animal object at 0x1065bc430>, <__main__.Animal object at 0x1065bff40>]\n"
     ]
    }
   ],
   "source": [
    "class Animal:\n",
    "    pass\n",
    "\n",
    "class Zoo:\n",
    "    def __init__(self):\n",
    "        self.animals = []\n",
    "        for _ in range(100):\n",
    "            animal = Animal()\n",
    "            self.animals.append(animal)\n",
    "\n",
    "zoo1 = Zoo()\n",
    "print(zoo1)\n",
    "print(zoo1.animals)"
   ]
  },
  {
   "cell_type": "code",
   "execution_count": 26,
   "metadata": {},
   "outputs": [
    {
     "name": "stdout",
     "output_type": "stream",
     "text": [
      "<__main__.Rabbit object at 0x10640b550>\n",
      "[<__main__.Carret object at 0x10640aa40>, <__main__.Carret object at 0x10640bcd0>, <__main__.Carret object at 0x10640b730>, <__main__.Carret object at 0x10640bb20>, <__main__.Carret object at 0x10640af80>, <__main__.Carret object at 0x10640a8c0>, <__main__.Carret object at 0x10640a9e0>, <__main__.Carret object at 0x10640a170>, <__main__.Carret object at 0x10640a7a0>, <__main__.Carret object at 0x10640be80>, <__main__.Carret object at 0x106408ee0>, <__main__.Carret object at 0x10640bbe0>, <__main__.Carret object at 0x10640b4f0>, <__main__.Carret object at 0x106409660>, <__main__.Carret object at 0x10640acb0>, <__main__.Carret object at 0x106408c40>, <__main__.Carret object at 0x10640b3d0>, <__main__.Carret object at 0x10640a800>, <__main__.Carret object at 0x10640bf10>, <__main__.Carret object at 0x10640ac80>, <__main__.Carret object at 0x106409ed0>, <__main__.Carret object at 0x10640b310>, <__main__.Carret object at 0x10640b790>, <__main__.Carret object at 0x10640bd30>, <__main__.Carret object at 0x10640b700>, <__main__.Carret object at 0x10640bc10>, <__main__.Carret object at 0x106408940>, <__main__.Carret object at 0x1064090c0>, <__main__.Carret object at 0x10640a890>, <__main__.Carret object at 0x10640b040>]\n"
     ]
    }
   ],
   "source": [
    "class Carret:\n",
    "    pass\n",
    "\n",
    "class Rabbit:\n",
    "    def __init__(self):\n",
    "        self.carrets = []\n",
    "        for _ in range(30):\n",
    "            carret = Carret()\n",
    "            self.carrets.append(carret)\n",
    "\n",
    "rabbit1 = Rabbit()\n",
    "print(rabbit1)\n",
    "print(rabbit1.carrets)"
   ]
  },
  {
   "cell_type": "markdown",
   "metadata": {},
   "source": [
    "- Q4) 쥐의 치즈를 Getter, Setter를 통해 접근할 수 있도록 수정\n",
    "    - 구현 조건\n",
    "        - Q3의 구현한 로직을 그대로 복사해서 수정 (오버라이딩), 초기 치즈 갯수는 10개\n",
    "        - `cheese` 필드를 외부에서 직접 접근할 수 없게 수정\n",
    "        - `get_cheeses`, `set_cheese` 메소드를 통해 Getter, Setter 정의\n",
    "            - `get_cheeses` : 쥐가 가지고 있는 치즈 리스트를 리턴\n",
    "            - `set_cheese` : 쥐가 가지고 있는 치즈 리스트에 새로운 치즈를 인자로 받아서 추가"
   ]
  },
  {
   "cell_type": "code",
   "execution_count": 19,
   "metadata": {},
   "outputs": [
    {
     "name": "stdout",
     "output_type": "stream",
     "text": [
      "<__main__.Mouse object at 0x1074c65f0>\n",
      "[<__main__.Cheese object at 0x1074c7760>, <__main__.Cheese object at 0x1074c4760>, <__main__.Cheese object at 0x1074c74c0>, <__main__.Cheese object at 0x1074c51e0>, <__main__.Cheese object at 0x1074c6e90>, <__main__.Cheese object at 0x1074c59f0>, <__main__.Cheese object at 0x1074c6e60>, <__main__.Cheese object at 0x1074c6710>, <__main__.Cheese object at 0x1074c7280>, <__main__.Cheese object at 0x1074c4580>]\n",
      "None\n",
      "[<__main__.Cheese object at 0x1074c7760>, <__main__.Cheese object at 0x1074c4760>, <__main__.Cheese object at 0x1074c74c0>, <__main__.Cheese object at 0x1074c51e0>, <__main__.Cheese object at 0x1074c6e90>, <__main__.Cheese object at 0x1074c59f0>, <__main__.Cheese object at 0x1074c6e60>, <__main__.Cheese object at 0x1074c6710>, <__main__.Cheese object at 0x1074c7280>, <__main__.Cheese object at 0x1074c4580>, <__main__.Cheese object at 0x1074c7e80>]\n"
     ]
    }
   ],
   "source": [
    "class Cheese:\n",
    "    pass\n",
    "\n",
    "class Mouse:\n",
    "    def __init__(self):\n",
    "        self.__cheeses = []\n",
    "        for _ in range(10):\n",
    "            cheese = Cheese()\n",
    "            self.__cheeses.append(cheese)\n",
    "    \n",
    "    def get_cheeses(self):\n",
    "        return self.__cheeses\n",
    "\n",
    "    def set_cheeses(self, cheese: Cheese):\n",
    "        self.__cheeses.append(cheese)\n",
    "    \n",
    "\n",
    "mouse1 = Mouse()\n",
    "print(mouse1)\n",
    "print(mouse1.get_cheeses())\n",
    "print(mouse1.set_cheeses(cheese=Cheese()))\n",
    "print(mouse1.get_cheeses())"
   ]
  },
  {
   "cell_type": "markdown",
   "metadata": {},
   "source": [
    "- Q5) 쥐가 너무 배불러서 처음 받은 치즈 이상으로 받고 싶어하지 않는다.\n",
    "프로퍼티를 사용하여 쥐가 더이상 치즈를 set할 수 없게 만들기\n",
    "    - 구현 조건\n",
    "        - Getter, Setter를 프로퍼티 Getter, Setter로 재정의한다.\n",
    "        - 프로퍼티 Setter를 제거"
   ]
  },
  {
   "cell_type": "code",
   "execution_count": 44,
   "metadata": {},
   "outputs": [
    {
     "name": "stdout",
     "output_type": "stream",
     "text": [
      "<__main__.Mouse object at 0x10785ca60>\n",
      "[<__main__.Cheese object at 0x10785cc10>, <__main__.Cheese object at 0x10785c820>, <__main__.Cheese object at 0x10785d660>, <__main__.Cheese object at 0x10785d630>, <__main__.Cheese object at 0x10785d270>, <__main__.Cheese object at 0x10785c700>, <__main__.Cheese object at 0x10785d750>, <__main__.Cheese object at 0x10785d690>, <__main__.Cheese object at 0x10785c190>, <__main__.Cheese object at 0x10785c1f0>]\n",
      "[<__main__.Cheese object at 0x10785cc10>, <__main__.Cheese object at 0x10785c820>, <__main__.Cheese object at 0x10785d660>, <__main__.Cheese object at 0x10785d630>, <__main__.Cheese object at 0x10785d270>, <__main__.Cheese object at 0x10785c700>, <__main__.Cheese object at 0x10785d750>, <__main__.Cheese object at 0x10785d690>, <__main__.Cheese object at 0x10785c190>, <__main__.Cheese object at 0x10785c1f0>, <__main__.Cheese object at 0x10785ca30>]\n"
     ]
    }
   ],
   "source": [
    "class Cheese:\n",
    "    pass\n",
    "\n",
    "class Mouse:\n",
    "    def __init__(self):\n",
    "        self.__cheeses = []\n",
    "        for _ in range(10):\n",
    "            cheese = Cheese()\n",
    "            self.__cheeses.append(cheese)\n",
    "    \n",
    "    @property\n",
    "    def cheeses(self):\n",
    "        return self.__cheeses\n",
    "    \n",
    "    @cheeses.setter\n",
    "    def cheeses(self, cheese: Cheese):\n",
    "        self.__cheeses.append(cheese)\n",
    "    \n",
    "\n",
    "mouse1 = Mouse()\n",
    "print(mouse1)\n",
    "print(mouse1.cheeses)\n",
    "mouse1.cheeses = Cheese()\n",
    "print(mouse1.cheeses)"
   ]
  }
 ],
 "metadata": {
  "kernelspec": {
   "display_name": ".venv",
   "language": "python",
   "name": "python3"
  },
  "language_info": {
   "codemirror_mode": {
    "name": "ipython",
    "version": 3
   },
   "file_extension": ".py",
   "mimetype": "text/x-python",
   "name": "python",
   "nbconvert_exporter": "python",
   "pygments_lexer": "ipython3",
   "version": "3.10.0"
  },
  "orig_nbformat": 4
 },
 "nbformat": 4,
 "nbformat_minor": 2
}
