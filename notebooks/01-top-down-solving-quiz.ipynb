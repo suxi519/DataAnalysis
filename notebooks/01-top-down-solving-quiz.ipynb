{
 "cells": [
  {
   "cell_type": "markdown",
   "metadata": {},
   "source": [
    "# 클래스를 사용하는 이유는 무엇일까?\n",
    "- 현실 세계에 비유를 해보자.\n",
    "- 로봇을 만드는 공장이 있는데, 로봇을 설계도면 없이 생산한다고 가정해보자.\n",
    "- 동일한 동작을 수행하는 로봇을 만들려고 하지만, 설계도면 없이는 만들어지는 로봇들은 제각기이거나 미세하게 다를 것이다.\n",
    "- 왜냐? 만들어지는 방법 자체가 체계화되어 있지 않기 때문이다.  \n",
    "\n",
    "> 정리하자면, 클래스를 사용하는 이유는 다음과 같다.\n",
    "> - 일관성 있는 객체 생성\n",
    "> - 코드 재사용성 (re-use) 향상 & 중복 코드 제거\n",
    ">   - 같은 맥락으로 함수도 정의하여 재사용한다.\n",
    "\n",
    "- 프로그램의 규모가 커질수록 재사용성을 극대화하여 일관적인 구조를 유지해야 한다.\n",
    "- 그렇지 않을 경우, 동일한 동작을 하는 모듈 혹은 컴포넌트를 여러번 정의하여 중복 코드가 발생하고, 일관적이지 못하며, 가독성이 떨어지게 된다."
   ]
  },
  {
   "cell_type": "markdown",
   "metadata": {},
   "source": [
    "# 클래스는 추상화 레벨이 중요하다.\n",
    "- 클래스를 어느 수준까지 추상화 하느냐에 따라 코드의 품질이 달라진다.\n",
    "- 예를 들어, 현실 세계에서 이해하기 쉬운 명시적인 객체를 클래스로 정의한다고 가정해보자.\n",
    "    - 현실 세계의 쥐를 클래스로 정의하는 것은 어렵지 않게 생각할 수 있는 문제이다.\n",
    "- 반면, 현실에서도 추상화가 되어있는 개념을 클래스로써 추상화하는 것은 어려운 문제이다.\n",
    "    - 하지만, 추상화를 잘하는 사람이 결국에는 승리한다.\n",
    "    - 예를 들면, `She's gone` 노래를 클래스로 정의한다고 생각해보자.\n",
    "    - 단순히 노래 `Song`를 클래스로 정의하는 수준에 그치는 것은 섬세한 프로그래밍을 할 수 없다.\n",
    "    - 대표적으로 음악에는 다음과 같은 요소가 있다.\n",
    "        - `song_name` : 곡 이름\n",
    "        - `artist` : 아티스트\n",
    "        - `time_signature` : 박자\n",
    "        - `chord_progression` : 코드 진행\n",
    "- 한번에 하려하지 말고 문제를 쪼개어 추상화를 해보자."
   ]
  },
  {
   "cell_type": "code",
   "execution_count": 2,
   "metadata": {},
   "outputs": [],
   "source": [
    "class Song:\n",
    "    def __init__(self) -> None:\n",
    "        self.__song_name\n",
    "        self.__artist\n",
    "        self.__time_signature\n",
    "        self.__chord_progression"
   ]
  },
  {
   "cell_type": "markdown",
   "metadata": {},
   "source": [
    "- 일단 필요한 필드는 선언을 했다.\n",
    "- 하지만, 필드들의 타입을 생각해야 한다.\n",
    "    - `song_name` : 이름이니까 문자열이 적절할 것 같다.\n",
    "    - `artist` : 아티스트는 이름으로 관리하면 문자열을 사용해도 될 것 같지만, 아티스트는 여러 곡을 부르기 때문에 매번 문자열로 관리하는 것보다는 별도의 `Artist` 클래스로 정의하여 재사용하는 것이 낫겠다.\n",
    "    - `time_signature` : 박자는 경우의 수가 정해져 있기 때문에 문자열 혹은 `Enum`으로 관리해도 될 것 같다.\n",
    "    - `chord_progression` : 코드 진행은 여러 코드들을 의미하는 것이므로, 리스트로 관리해야 한다."
   ]
  },
  {
   "cell_type": "code",
   "execution_count": 3,
   "metadata": {},
   "outputs": [],
   "source": [
    "# 우선 별도의 클래스를 정의한다.\n",
    "\n",
    "class Artist:\n",
    "    def __init__(self, name: str) -> None:\n",
    "        self.__name = name\n",
    "    \n",
    "    @property\n",
    "    def name(self):\n",
    "        return self.__name"
   ]
  },
  {
   "cell_type": "code",
   "execution_count": 4,
   "metadata": {},
   "outputs": [],
   "source": [
    "steelheart = Artist(name=\"steelheart\")"
   ]
  },
  {
   "cell_type": "code",
   "execution_count": 5,
   "metadata": {},
   "outputs": [],
   "source": [
    "class Song:\n",
    "    # artist의 경우 위에서 정의한 Artist 클래스로 타입 힌트를 지정한다.\n",
    "    def __init__(self, song_name: str, artist: Artist, time_signature: str, chord_progression: list) -> None:\n",
    "        self.__song_name = song_name\n",
    "        self.__artist = artist\n",
    "        self.__time_signature = time_signature\n",
    "        self.__chord_progression = chord_progression\n",
    "    \n",
    "    @property\n",
    "    def song_name(self):\n",
    "        return self.__song_name\n",
    "    \n",
    "    @property\n",
    "    def artist(self):\n",
    "        return self.__artist\n",
    "    \n",
    "    @property\n",
    "    def time_signature(self):\n",
    "        return self.__time_signature\n",
    "    \n",
    "    @property\n",
    "    def chord_progression(self):\n",
    "        return self.__chord_progression"
   ]
  },
  {
   "cell_type": "code",
   "execution_count": 6,
   "metadata": {},
   "outputs": [],
   "source": [
    "shes_gone = Song(\n",
    "    song_name=\"she's gone\",\n",
    "    artist=steelheart,  # 위에서 생성한 steelheart 객체를 shes_gone 객체에 주입\n",
    "    time_signature='3/4',\n",
    "    chord_progression=['C', 'C', 'Caug', 'F', 'Gdim']\n",
    ")"
   ]
  },
  {
   "cell_type": "code",
   "execution_count": 9,
   "metadata": {},
   "outputs": [
    {
     "name": "stdout",
     "output_type": "stream",
     "text": [
      "<__main__.Song object at 0x103b17e80>\n",
      "she's gone\n",
      "<__main__.Artist object at 0x1039f3610>\n",
      "steelheart\n",
      "3/4\n",
      "['C', 'C', 'Caug', 'F', 'Gdim']\n"
     ]
    }
   ],
   "source": [
    "print(shes_gone)\n",
    "print(shes_gone.song_name)\n",
    "print(shes_gone.artist) # steelheart 객체 (타입 : Artist)\n",
    "print(shes_gone.artist.name) # steelheart 객체의 name 필드에 접근\n",
    "print(shes_gone.time_signature)\n",
    "print(shes_gone.chord_progression)"
   ]
  },
  {
   "cell_type": "code",
   "execution_count": 10,
   "metadata": {},
   "outputs": [],
   "source": [
    "ill_never_let_you_go = Song(\n",
    "    song_name=\"i'll never let you go\",\n",
    "    artist=steelheart, # steelheart 객체 재사용\n",
    "    time_signature='4/4',\n",
    "    chord_progression=['D', 'Em', 'Gb', 'Ab', 'Fm']\n",
    ")"
   ]
  },
  {
   "cell_type": "code",
   "execution_count": 11,
   "metadata": {},
   "outputs": [
    {
     "name": "stdout",
     "output_type": "stream",
     "text": [
      "<__main__.Song object at 0x103b74bb0>\n",
      "i'll never let you go\n",
      "<__main__.Artist object at 0x1039f3610>\n",
      "steelheart\n",
      "4/4\n",
      "['D', 'Em', 'Gb', 'Ab', 'Fm']\n"
     ]
    }
   ],
   "source": [
    "print(ill_never_let_you_go)\n",
    "print(ill_never_let_you_go.song_name)\n",
    "print(ill_never_let_you_go.artist) # steelheart 객체 (타입 : Artist)\n",
    "print(ill_never_let_you_go.artist.name) # steelheart 객체의 name 필드에 접근\n",
    "print(ill_never_let_you_go.time_signature)\n",
    "print(ill_never_let_you_go.chord_progression)"
   ]
  },
  {
   "attachments": {},
   "cell_type": "markdown",
   "metadata": {},
   "source": [
    "# 머신러닝 파이프라인으로 Top-Down 설계 마인드 장착하기\n",
    "- 우선, 어느 분야든 태스크든 내가 해결하고자 하는 문제의 흐름 (flow)를 명확하게 이해하는 것이 중요하다.\n",
    "    - 생명 주기 (Life Cycle)을 먼저 파악하는게 인생에서 제일 중요하다!\n",
    "- 이번 예시는 실제로 머신러닝을 하는 것은 아니기 때문에, Top-Down 사고 방식으로 문제를 해결하는 것을 중점적으로 본다.\n",
    "- 앞서, flow를 명확하게 파악하는 것이 중요하다고 했다.\n",
    "- 머신러닝의 경우, 크게 다음과 같은 흐름으로 진행된다.\n",
    "    - 데이터 수집 (Data Collection)\n",
    "    - 데이터 전처리 (Data Preprocessing)\n",
    "    - 모델링 (Modeling)\n",
    "    - 모델 학습 및 검증 (Model Training & Validation) - training set & validation set\n",
    "    - 모델 평가 (Model Evaluation) - test set\n",
    "    - 모델 배포 (Model Deployment)\n",
    "- 그렇다면, 각각의 스텝은 행위이므로, 해당 행위를 수행하는 주체를 객체가 한다 생각하고 클래스를 정의하면 되는 것이 아닌가?"
   ]
  },
  {
   "cell_type": "code",
   "execution_count": 17,
   "metadata": {},
   "outputs": [],
   "source": [
    "# 클래스는 처음부터 상세하게 구현하는 것보다 유사 코드 (pseudo code) 형태로 ..\n",
    "\n",
    "# 물론 각 단계 안에서도 세분화될 수 있지만, \n",
    "# 현재 예시에서는 1 depth까지만 고려\n",
    "\n",
    "class DataCollector:\n",
    "    def execute(self):\n",
    "        ...\n",
    "\n",
    "class DataPreprocessor:\n",
    "    def execute(self):\n",
    "        ...\n",
    "\n",
    "class Model:\n",
    "    def execute(self):\n",
    "        ...\n",
    "\n",
    "class ModelTrainer:\n",
    "    def execute(self):\n",
    "        ...\n",
    "\n",
    "class ModelEvaluator:\n",
    "    def execute(self):\n",
    "        ...\n",
    "\n",
    "class ModelDeployer:\n",
    "    def execute(self):\n",
    "        ..."
   ]
  },
  {
   "cell_type": "code",
   "execution_count": 18,
   "metadata": {},
   "outputs": [],
   "source": [
    "# 미리 정의해놓은 클래스 덕분에 가장 Top에 해당하는 MachineLearningFlowPipeline에서 \n",
    "# 각 단계를 객체로 관리할 수 있다.\n",
    "\n",
    "class MachineLearningFlowPipeline:\n",
    "    def __init__(\n",
    "            self,\n",
    "            data_collector: DataCollector,\n",
    "            data_preprocessor: DataPreprocessor,\n",
    "            model: Model,\n",
    "            model_trainer: ModelTrainer,\n",
    "            model_evaluator: ModelEvaluator,\n",
    "            model_deployer: ModelDeployer\n",
    "    ) -> None:\n",
    "        self.data_collector = data_collector\n",
    "        self.data_preprocessor = data_preprocessor\n",
    "        self.model = model\n",
    "        self.model_trainer = model_trainer\n",
    "        self.model_evaluator = model_evaluator\n",
    "        self.model_deployer = model_deployer\n",
    "    \n",
    "    def execute(self):\n",
    "        # 유사 코드 (pseudo code)\n",
    "        # 각 필드 (self.data_colletor ~ self.model_deployer)들이\n",
    "        # 순차적으로 수행되는 로직\n",
    "        self.data_collector.execute()\n",
    "        self.data_preprocessor.execute()\n",
    "        self.model.execute()\n",
    "        self.model_trainer.execute()\n",
    "        self.model_evaluator.execute()\n",
    "        self.model_deployer.execute()"
   ]
  },
  {
   "cell_type": "code",
   "execution_count": 19,
   "metadata": {},
   "outputs": [],
   "source": [
    "ml_pipeline = MachineLearningFlowPipeline(\n",
    "    data_collector=DataCollector(),\n",
    "    data_preprocessor=DataPreprocessor(),\n",
    "    model=Model(),\n",
    "    model_trainer=ModelTrainer(),\n",
    "    model_evaluator=ModelEvaluator(),\n",
    "    model_deployer=ModelDeployer()\n",
    ")\n",
    "\n",
    "ml_pipeline.execute()"
   ]
  },
  {
   "attachments": {},
   "cell_type": "markdown",
   "metadata": {},
   "source": [
    "- Q1) 마케팅 프로세스를 자연어로 정의하고, 이를 클래스로 정의하기\n",
    "    - 구현 조건\n",
    "        - 클래스 내부의 메소드 들의 로직을 구현하지 않고 유사 코드 형태로 두기\n",
    "        - 1 depth 만 고려하기 (너무 깊이 들어가지 않도록)"
   ]
  },
  {
   "cell_type": "code",
   "execution_count": null,
   "metadata": {},
   "outputs": [],
   "source": [
    "\"\"\" \n",
    "마케팅 프로세스는 크게 아래의 프로세스로 진행된다.\n",
    "1. 문제 정의 (Problem Definition)\n",
    "2. 목표 정의 (Goal Setting)\n",
    "3. 콘텐츠 전략 (Content Strategy)\n",
    "4. 콘텐츠 기획 (Content Planning)\n",
    "5. 콘텐츠 제작 (Content Creation)\n",
    "6. 콘텐츠 집행 (Content Execution)\n",
    "7. 성과 분석 및 회고 (Performance Analysis and Retrospective)\n",
    "\"\"\"\n",
    "class Process:\n",
    "    ...\n",
    "\n",
    "class ProblemDefinitionProcess(Process):\n",
    "    def execute(self):\n",
    "        ...\n",
    "\n",
    "class GoalSettingProcess(Process):\n",
    "    def excute(self):\n",
    "        ...\n",
    "\n",
    "class ContentStrategyProcess(Process):\n",
    "    def execute(self):\n",
    "        ...\n",
    "\n",
    "class ContentPlanningProcess(Process):\n",
    "    def execute(self):\n",
    "        ...\n",
    "\n",
    "class ContentCreationProcess(Process):\n",
    "    def executue(self):\n",
    "        ...\n",
    "\n",
    "class ContentExcutionProcess(Process):\n",
    "    def execute(self):\n",
    "        ...\n",
    "\n",
    "class PerformanceAnalysisandRetrospectiveProcess(Process):\n",
    "    def execute(self):\n",
    "        ..."
   ]
  },
  {
   "cell_type": "code",
   "execution_count": 1,
   "metadata": {},
   "outputs": [
    {
     "name": "stdout",
     "output_type": "stream",
     "text": [
      "False\n",
      "kiwi\n",
      "False\n",
      "...\n"
     ]
    }
   ],
   "source": [
    "class Animal:\n",
    "    can_talk = False\n",
    "\n",
    "    def __init__(self, num_legs: int, howling_sound: str) -> None:\n",
    "        self.num_legs = num_legs\n",
    "        self.howling_sound = howling_sound\n",
    "    \n",
    "    def howling(self):\n",
    "        print(self.howling_sound)\n",
    "\n",
    "class KiwiBird(Animal):\n",
    "    ...\n",
    "\n",
    "class Rabbit(Animal):\n",
    "    ...\n",
    "\n",
    "\n",
    "kiwi_bird = KiwiBird(num_legs=2, howling_sound='kiwi')\n",
    "rabbit = Rabbit(num_legs=4, howling_sound='...')\n",
    "\n",
    "print(kiwi_bird.can_talk)\n",
    "kiwi_bird.howling()\n",
    "\n",
    "print(rabbit.can_talk)\n",
    "rabbit.howling()"
   ]
  },
  {
   "cell_type": "markdown",
   "metadata": {},
   "source": [
    "- Q2) 신규 고객 유치 현황 데이터를 시각화하기 위해 무엇을 해야 하는지 단계별로 정의해보기\n",
    "    - 구현 조건\n",
    "        - 이는 코드가 아닌 자연어의 형태로 우선 정의\n",
    "        - 아래의 셀에 주석으로 작성\n",
    "        - 각 단계는 행위 및 동작으로 정의 (명사 형태 X)"
   ]
  },
  {
   "cell_type": "code",
   "execution_count": null,
   "metadata": {},
   "outputs": [],
   "source": [
    "\"\"\"\n",
    "1. 신규 고객 유치 현황 데이터 수집 프로세스 (Collect)\n",
    "2. 신규 고객 유치 현황 데이터 집계 프로세스 (편향 파악, Agregate)\n",
    "3. 신규 고객 유치 현황 데이터 전처리 프로세스 (Preprocess)\n",
    "4. 신규 고객 유치 현황 데이터 시각화 프로세스 (Vsulisualize)\n",
    "5. 신규 고객 유치 현황 데이터 분석 및 결론 도출 프로세스 (Analysis)\n",
    "\"\"\""
   ]
  },
  {
   "cell_type": "markdown",
   "metadata": {},
   "source": [
    "- Q3) 각 단계별 행위를 함수로 정의하기\n",
    "    - 구현 조건\n",
    "        - 유사 코드로 작성\n",
    "\n",
    "```python\n",
    "# 유사 코드 예시\n",
    "def 함수명():\n",
    "    ...\n",
    "```"
   ]
  },
  {
   "cell_type": "code",
   "execution_count": null,
   "metadata": {},
   "outputs": [],
   "source": [
    "def collect_data():\n",
    "    ...\n",
    "\n",
    "def agredate_data():\n",
    "    ...\n",
    "\n",
    "def preprocess_data():\n",
    "    ...\n",
    "\n",
    "def visualize_data():\n",
    "    ...\n",
    "\n",
    "def analysis_data():\n",
    "    ..."
   ]
  },
  {
   "attachments": {},
   "cell_type": "markdown",
   "metadata": {},
   "source": [
    "- Q4) 각각의 함수를 메소드로 가지고 있는 클래스 정의하기\n",
    "    - 구현 조건\n",
    "        - 클래스명 : `~~Pipeline`\n",
    "        - 각 메소드를 순차적으로 수행하는 메소드도 정의하기\n",
    "            - 메소드명 : `execute`\n",
    "            - 각 메소드 유사 코드로 작성\n",
    "        - e.g. `MachineLearningFlowPipeline` 클래스의 `execute`"
   ]
  },
  {
   "cell_type": "code",
   "execution_count": 2,
   "metadata": {},
   "outputs": [],
   "source": [
    "class DataAnalysisPipeline:\n",
    "    def collect_data(self):\n",
    "        ...\n",
    "\n",
    "    def agredate_data(self):\n",
    "        ...\n",
    "\n",
    "    def preprocess_data(self):\n",
    "        ...\n",
    "\n",
    "    def visualize_data(self):\n",
    "        ...\n",
    "\n",
    "    def analysis_data(self):\n",
    "        ...\n",
    "    \n",
    "    def execute(self):\n",
    "        self.collect_data()\n",
    "        self.agredate_data()\n",
    "        self.preprocess_data()\n",
    "        self.visualize_data()\n",
    "        self.analysis_data()"
   ]
  },
  {
   "cell_type": "markdown",
   "metadata": {},
   "source": [
    "- Q5) 지표를 시각화 했더니 성장곡선을 그린 경우, 이후 해야할 작업들을 단계별로 정의 후, 각 단계를 메소드로 가지고 있는 `~~Pipeline`으로 정의하기\n",
    "    - 구현 조건\n",
    "        - 각 메소드 유사 코드로 작성"
   ]
  },
  {
   "cell_type": "code",
   "execution_count": 3,
   "metadata": {},
   "outputs": [],
   "source": [
    "\"\"\"\n",
    "마케팅 플랫폼 확장\n",
    "콘텐츠 마케터 고용\n",
    "콘텐츠 전략 짜기\n",
    "\"\"\"\n",
    "\n",
    "class MarketingExpansionPipeline:\n",
    "    def expand_platform(self):\n",
    "        ...\n",
    "    \n",
    "    def hire_content_marketer(self):\n",
    "        ...\n",
    "    \n",
    "    def strategize_content(self):\n",
    "        ...\n",
    "    \n",
    "    def execute(self):\n",
    "        self.expand_platform()\n",
    "        self.hire_content_marketer()\n",
    "        self.strategize_content()"
   ]
  },
  {
   "cell_type": "markdown",
   "metadata": {},
   "source": [
    "- Q6) 지표를 시각화 했더니 하햫곡선을 그린 경우, 이후 해야할 작업들을 단계별로 정의 후, 각 단계를 메소드로 가지고 있는 `~~Pipeline`으로 정의하기\n",
    "    - 구현 조건\n",
    "        - 각 메소드 유사 코드로 작성"
   ]
  },
  {
   "cell_type": "code",
   "execution_count": 4,
   "metadata": {},
   "outputs": [],
   "source": [
    "\"\"\"\n",
    "마케팅 플랫폼 변경\n",
    "콘텐츠 마케터 고용\n",
    "콘텐츠 전략 짜기\n",
    "\"\"\"\n",
    "\n",
    "class MarketingImprovementPipeline:\n",
    "    def change_platform(self):\n",
    "        ...\n",
    "    \n",
    "    def hire_content_marketer(self):\n",
    "        ...\n",
    "\n",
    "    def strategize_content(self):\n",
    "        ...\n",
    "\n",
    "    def execute(self):\n",
    "        self.change_ploaform()\n",
    "        self.hire_content_marketer()\n",
    "        self.strategize_content()"
   ]
  },
  {
   "cell_type": "markdown",
   "metadata": {},
   "source": [
    "- Q7) Q4에서 정의한 클래스의 `execute` 메소드 내부에서 `if ~ else ~`조건문 분기를 이용하여 Q5, Q6에서 정의한 파이프라인을 수행하도록 구현하기"
   ]
  },
  {
   "cell_type": "code",
   "execution_count": 7,
   "metadata": {},
   "outputs": [],
   "source": [
    "class DataAnalysisPipeline:\n",
    "    def collect_data(self):\n",
    "        ...\n",
    "\n",
    "    def agredate_data(self):\n",
    "        ...\n",
    "\n",
    "    def preprocess_data(self):\n",
    "        ...\n",
    "\n",
    "    def visualize_data(self):\n",
    "        ...\n",
    "\n",
    "    def analysis_data(self):\n",
    "        ...\n",
    "    \n",
    "    def execute(self):\n",
    "        self.collect_data()\n",
    "        self.agredate_data()\n",
    "        self.preprocess_data()\n",
    "        self.visualize_data()\n",
    "        result = self.analysis_data()\n",
    "        \n",
    "        if result == 'up':\n",
    "            MarketingExpansionPipeline().execute()\n",
    "        elif result == 'down':\n",
    "            MarketingImprovementPipeline().execute()\n",
    "\n",
    "\n",
    "DataAnalysisPipeline().execute()"
   ]
  }
 ],
 "metadata": {
  "kernelspec": {
   "display_name": ".venv",
   "language": "python",
   "name": "python3"
  },
  "language_info": {
   "codemirror_mode": {
    "name": "ipython",
    "version": 3
   },
   "file_extension": ".py",
   "mimetype": "text/x-python",
   "name": "python",
   "nbconvert_exporter": "python",
   "pygments_lexer": "ipython3",
   "version": "3.10.0"
  },
  "orig_nbformat": 4
 },
 "nbformat": 4,
 "nbformat_minor": 2
}
